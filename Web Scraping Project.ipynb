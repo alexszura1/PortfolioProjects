{
 "cells": [
  {
   "cell_type": "code",
   "execution_count": 98,
   "id": "8125d64d",
   "metadata": {},
   "outputs": [],
   "source": [
    "import pandas as pd\n",
    "import numpy as np\n",
    "import time\n",
    "from bs4 import BeautifulSoup\n",
    "import requests\n",
    "import datetime\n",
    "import smtplib\n",
    "import csv"
   ]
  },
  {
   "cell_type": "code",
   "execution_count": 43,
   "id": "79aca6a3",
   "metadata": {},
   "outputs": [
    {
     "name": "stdout",
     "output_type": "stream",
     "text": [
      "\n",
      "                   Data Science Shirt Analyst Data Scientist Data Ninja T-Shirt\n",
      "                  \n"
     ]
    }
   ],
   "source": [
    "#Connect to web\n",
    "#Only works once every 5-10 times probably amazon blocking the request\n",
    "\n",
    "URL = 'https://www.amazon.com/dp/B094BBL9V9/ref=sspa_dk_detail_1?psc=1&pd_rd_i=B094BBL9V9&pd_rd_w=7Ml8H&content-id=amzn1.sym.f734d1a2-0bf9-4a26-ad34-2e1b969a5a75&pf_rd_p=f734d1a2-0bf9-4a26-ad34-2e1b969a5a75&pf_rd_r=82PVZY0WA6SSVM9Q0BZK&pd_rd_wg=Ypmv0&pd_rd_r=8b43c1fb-4a4b-4385-8436-d30a637b78ec&s=apparel&sp_csd=d2lkZ2V0TmFtZT1zcF9kZXRhaWw'\n",
    "\n",
    "headers = {\"User-Agent\": \"Mozilla/5.0 (Windows NT 10.0; Win64; x64) AppleWebKit/537.36 (KHTML, like Gecko) Chrome/118.0.0.0 Safari/537.36 Edg/118.0.2088.76\"}\n",
    "\n",
    "page = requests.get(URL, headers=headers)\n",
    "\n",
    "soup1 = BeautifulSoup(page.content, \"html.parser\")\n",
    "\n",
    "soup2 = BeautifulSoup(soup1.prettify(), \"html.parser\")\n",
    "\n",
    "title = soup2.find(id='productTitle').get_text()\n",
    "\n",
    "print(title)\n"
   ]
  },
  {
   "cell_type": "code",
   "execution_count": 91,
   "id": "e7ca9544",
   "metadata": {},
   "outputs": [],
   "source": [
    "price = soup2.find(class_=\"a-price-whole\").get_text()"
   ]
  },
  {
   "cell_type": "code",
   "execution_count": 92,
   "id": "078a5797",
   "metadata": {},
   "outputs": [
    {
     "name": "stdout",
     "output_type": "stream",
     "text": [
      "\n",
      "                     19\n",
      "                     \n",
      "                      .\n",
      "                     \n",
      "\n"
     ]
    }
   ],
   "source": [
    "print(price)"
   ]
  },
  {
   "cell_type": "code",
   "execution_count": 93,
   "id": "0f88c3da",
   "metadata": {},
   "outputs": [
    {
     "data": {
      "text/plain": [
       "'19\\n                     \\n                      .'"
      ]
     },
     "execution_count": 93,
     "metadata": {},
     "output_type": "execute_result"
    }
   ],
   "source": [
    "price.strip()"
   ]
  },
  {
   "cell_type": "code",
   "execution_count": 95,
   "id": "d6def3af",
   "metadata": {},
   "outputs": [
    {
     "name": "stdout",
     "output_type": "stream",
     "text": [
      "19\n"
     ]
    }
   ],
   "source": [
    "import re\n",
    "\n",
    "# Assuming price contains '19\\n .'\n",
    "\n",
    "# Use a regular expression to extract digits\n",
    "price = re.sub(r'\\D', '', price)\n",
    "\n",
    "# Print the extracted numerical value\n",
    "print(price)"
   ]
  },
  {
   "cell_type": "code",
   "execution_count": 104,
   "id": "6ab6ebaf",
   "metadata": {},
   "outputs": [
    {
     "name": "stdout",
     "output_type": "stream",
     "text": [
      "2023-11-02\n"
     ]
    }
   ],
   "source": [
    "title=title.strip()\n",
    "today=datetime.date.today()\n",
    "print(today)"
   ]
  },
  {
   "cell_type": "code",
   "execution_count": 105,
   "id": "bb88b4f6",
   "metadata": {},
   "outputs": [],
   "source": [
    "header=['Title','Price','Date']\n",
    "data= [title,price,today]\n",
    "\n",
    "with open('AmazonData.csv','w',newline='',encoding='UTF8') as f:\n",
    "    writer=csv.writer(f)\n",
    "    writer.writerow(header)\n",
    "    writer.writerow(data)\n"
   ]
  },
  {
   "cell_type": "code",
   "execution_count": 106,
   "id": "e3cdc7cb",
   "metadata": {},
   "outputs": [
    {
     "name": "stdout",
     "output_type": "stream",
     "text": [
      "                                               Title  Price        Date\n",
      "0  Data Science Shirt Analyst Data Scientist Data...     19  2023-11-02\n"
     ]
    }
   ],
   "source": [
    "df=pd.read_csv(r'C:\\Users\\Sasha\\AmazonData.csv')\n",
    "\n",
    "print(df)"
   ]
  },
  {
   "cell_type": "code",
   "execution_count": null,
   "id": "f68bd6e0",
   "metadata": {},
   "outputs": [],
   "source": [
    "with open('AmazonData.csv','a+',newline='',encoding='UTF8') as f:\n",
    "    writer=csv.writer(f)\n",
    "    writer.writerow(data)"
   ]
  },
  {
   "cell_type": "code",
   "execution_count": 107,
   "id": "0c17bbf0",
   "metadata": {},
   "outputs": [],
   "source": [
    "def check_price():\n",
    "    URL = 'https://www.amazon.com/dp/B094BBL9V9/ref=sspa_dk_detail_1?psc=1&pd_rd_i=B094BBL9V9&pd_rd_w=7Ml8H&content-id=amzn1.sym.f734d1a2-0bf9-4a26-ad34-2e1b969a5a75&pf_rd_p=f734d1a2-0bf9-4a26-ad34-2e1b969a5a75&pf_rd_r=82PVZY0WA6SSVM9Q0BZK&pd_rd_wg=Ypmv0&pd_rd_r=8b43c1fb-4a4b-4385-8436-d30a637b78ec&s=apparel&sp_csd=d2lkZ2V0TmFtZT1zcF9kZXRhaWw'\n",
    "\n",
    "    headers = {\"User-Agent\": \"Mozilla/5.0 (Windows NT 10.0; Win64; x64) AppleWebKit/537.36 (KHTML, like Gecko) Chrome/118.0.0.0 Safari/537.36 Edg/118.0.2088.76\"}\n",
    "\n",
    "    page = requests.get(URL, headers=headers)\n",
    "\n",
    "    soup1 = BeautifulSoup(page.content, \"html.parser\")\n",
    "\n",
    "    soup2 = BeautifulSoup(soup1.prettify(), \"html.parser\")\n",
    "\n",
    "    title = soup2.find(id='productTitle').get_text()\n",
    "   \n",
    "    price = soup2.find(class_=\"a-price-whole\").get_text()\n",
    "    \n",
    "    price = re.sub(r'\\D', '', price)\n",
    "    \n",
    "    title=title.strip()\n",
    "    \n",
    "    import datetime\n",
    "\n",
    "    today=datetime.date.today()\n",
    "    \n",
    "    header=['Title','Price','Date']\n",
    "    data= [title,price,today]\n",
    "    \n",
    "    with open('AmazonData.csv','a+',newline='',encoding='UTF8') as f:\n",
    "        writer=csv.writer(f)\n",
    "        writer.writerow(data)\n",
    "        \n",
    "    if(price<15):\n",
    "        send_mail()\n",
    "        \n",
    "        "
   ]
  },
  {
   "cell_type": "code",
   "execution_count": 109,
   "id": "f6f6310c",
   "metadata": {},
   "outputs": [],
   "source": [
    "while(True):\n",
    "    check_price()\n",
    "    time.sleep(86400)\n",
    "    "
   ]
  },
  {
   "cell_type": "code",
   "execution_count": 112,
   "id": "4ed57290",
   "metadata": {},
   "outputs": [],
   "source": [
    "def send_mail():\n",
    "    server=smtlib.SMTP_SSL('smtp.gmail.com',465)\n",
    "    server.ehlo()\n",
    "    \n",
    "    server.login('szurasasha@gmail.com', 'xxxxxxxxxxxxxx' )\n",
    "    \n",
    "    subject='Shirt on Sale!'\n",
    "    body='The shirt you marked on amazon is now under $15'\n",
    "    \n",
    "    msg=f'Subject:{Subject}\\n\\n{body}'\n",
    "    \n",
    "    server.sendmail('szurasasha@gmail.com',msg)"
   ]
  }
 ],
 "metadata": {
  "kernelspec": {
   "display_name": "Python 3 (ipykernel)",
   "language": "python",
   "name": "python3"
  },
  "language_info": {
   "codemirror_mode": {
    "name": "ipython",
    "version": 3
   },
   "file_extension": ".py",
   "mimetype": "text/x-python",
   "name": "python",
   "nbconvert_exporter": "python",
   "pygments_lexer": "ipython3",
   "version": "3.9.13"
  }
 },
 "nbformat": 4,
 "nbformat_minor": 5
}
